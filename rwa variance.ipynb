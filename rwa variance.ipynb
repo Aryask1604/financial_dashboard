{
 "cells": [
  {
   "cell_type": "code",
   "execution_count": 10,
   "id": "481262fa",
   "metadata": {},
   "outputs": [],
   "source": [
    "import pandas as pd\n",
    "import re\n",
    "\n"
   ]
  },
  {
   "cell_type": "code",
   "execution_count": 11,
   "id": "59a395ad",
   "metadata": {},
   "outputs": [],
   "source": [
    "df = pd.read_excel(\"C:/Users/aryas/OneDrive/Documents/RWA variance(AutoRecovered).xlsx\")"
   ]
  },
  {
   "cell_type": "code",
   "execution_count": 13,
   "id": "422050e3",
   "metadata": {},
   "outputs": [
    {
     "data": {
      "text/plain": [
       "(1000, 8)"
      ]
     },
     "execution_count": 13,
     "metadata": {},
     "output_type": "execute_result"
    }
   ],
   "source": [
    "df.head()\n",
    "df.shape\n"
   ]
  },
  {
   "cell_type": "code",
   "execution_count": 14,
   "id": "46f45936",
   "metadata": {},
   "outputs": [],
   "source": [
    "df1 = df.drop([\"Credit risk Analyst\", \"Difference\",\"Drivers\",\"% Difference\",\"Unnamed: 7\"], axis = \"columns\")"
   ]
  },
  {
   "cell_type": "code",
   "execution_count": 17,
   "id": "52f2a501",
   "metadata": {},
   "outputs": [
    {
     "data": {
      "text/plain": [
       "(1000, 6)"
      ]
     },
     "execution_count": 17,
     "metadata": {},
     "output_type": "execute_result"
    }
   ],
   "source": [
    "df1.head()\n",
    "df1.shape"
   ]
  },
  {
   "cell_type": "code",
   "execution_count": 20,
   "id": "ee734339",
   "metadata": {},
   "outputs": [
    {
     "data": {
      "text/html": [
       "<div>\n",
       "<style scoped>\n",
       "    .dataframe tbody tr th:only-of-type {\n",
       "        vertical-align: middle;\n",
       "    }\n",
       "\n",
       "    .dataframe tbody tr th {\n",
       "        vertical-align: top;\n",
       "    }\n",
       "\n",
       "    .dataframe thead th {\n",
       "        text-align: right;\n",
       "    }\n",
       "</style>\n",
       "<table border=\"1\" class=\"dataframe\">\n",
       "  <thead>\n",
       "    <tr style=\"text-align: right;\">\n",
       "      <th></th>\n",
       "      <th>date</th>\n",
       "      <th>RWA commentry</th>\n",
       "      <th>Actual credit risk</th>\n",
       "      <th>drivers</th>\n",
       "      <th>Predicted_Credit_Risk</th>\n",
       "      <th>Difference</th>\n",
       "    </tr>\n",
       "  </thead>\n",
       "  <tbody>\n",
       "    <tr>\n",
       "      <th>0</th>\n",
       "      <td>2023-03-09</td>\n",
       "      <td>\"ABC Corp RWA increased $0.08 billion to $0.52...</td>\n",
       "      <td>0.050</td>\n",
       "      <td>the integration of new, higher-risk assets</td>\n",
       "      <td>0.060</td>\n",
       "      <td>-0.010</td>\n",
       "    </tr>\n",
       "    <tr>\n",
       "      <th>1</th>\n",
       "      <td>2023-03-30</td>\n",
       "      <td>\"XYZ Ltd RWA decreased $0.025 billion to $0.41...</td>\n",
       "      <td>0.012</td>\n",
       "      <td>successful mitigation of credit risk through h...</td>\n",
       "      <td>0.015</td>\n",
       "      <td>-0.003</td>\n",
       "    </tr>\n",
       "    <tr>\n",
       "      <th>2</th>\n",
       "      <td>2023-06-05</td>\n",
       "      <td>\"LMN Inc RWA increased $0.2 billion to $0.7 bi...</td>\n",
       "      <td>0.220</td>\n",
       "      <td>the integration of new, higher-risk assets</td>\n",
       "      <td>0.180</td>\n",
       "      <td>0.040</td>\n",
       "    </tr>\n",
       "    <tr>\n",
       "      <th>3</th>\n",
       "      <td>2023-10-31</td>\n",
       "      <td>\"PQR Co RWA decreased $0.05 billion to $0.38 b...</td>\n",
       "      <td>0.035</td>\n",
       "      <td>the sale of low-risk assets from the portfolio</td>\n",
       "      <td>0.030</td>\n",
       "      <td>0.005</td>\n",
       "    </tr>\n",
       "    <tr>\n",
       "      <th>4</th>\n",
       "      <td>2023-08-14</td>\n",
       "      <td>\"EFG Ltd RWA increased $0.15 billion to $0.6 b...</td>\n",
       "      <td>0.130</td>\n",
       "      <td>regulatory changes requiring higher capital re...</td>\n",
       "      <td>0.120</td>\n",
       "      <td>0.010</td>\n",
       "    </tr>\n",
       "    <tr>\n",
       "      <th>...</th>\n",
       "      <td>...</td>\n",
       "      <td>...</td>\n",
       "      <td>...</td>\n",
       "      <td>...</td>\n",
       "      <td>...</td>\n",
       "      <td>...</td>\n",
       "    </tr>\n",
       "    <tr>\n",
       "      <th>95</th>\n",
       "      <td>2023-07-12</td>\n",
       "      <td>\"ABC Inc RWA increased $0.13 billion to $0.61 ...</td>\n",
       "      <td>0.058</td>\n",
       "      <td></td>\n",
       "      <td>0.110</td>\n",
       "      <td>-0.052</td>\n",
       "    </tr>\n",
       "    <tr>\n",
       "      <th>96</th>\n",
       "      <td>2023-09-26</td>\n",
       "      <td>\"XYZ Corp RWA remained flat at $0.44 billion d...</td>\n",
       "      <td>0.035</td>\n",
       "      <td>the implementation of advanced risk management...</td>\n",
       "      <td>0.028</td>\n",
       "      <td>0.007</td>\n",
       "    </tr>\n",
       "    <tr>\n",
       "      <th>97</th>\n",
       "      <td>2023-11-23</td>\n",
       "      <td>\"OPQ Ltd RWA decreased $0.05 billion to $0.33 ...</td>\n",
       "      <td>0.120</td>\n",
       "      <td></td>\n",
       "      <td>0.038</td>\n",
       "      <td>0.082</td>\n",
       "    </tr>\n",
       "    <tr>\n",
       "      <th>98</th>\n",
       "      <td>2023-09-25</td>\n",
       "      <td>\"EFG Inc RWA increased $0.16 billion to $0.68 ...</td>\n",
       "      <td>0.016</td>\n",
       "      <td>the integration of new, higher-risk assets</td>\n",
       "      <td>0.140</td>\n",
       "      <td>-0.124</td>\n",
       "    </tr>\n",
       "    <tr>\n",
       "      <th>99</th>\n",
       "      <td>2023-10-22</td>\n",
       "      <td>\"RST Inc RWA remained flat at $0.46 billion de...</td>\n",
       "      <td>0.088</td>\n",
       "      <td>the implementation of advanced risk management...</td>\n",
       "      <td>0.025</td>\n",
       "      <td>0.063</td>\n",
       "    </tr>\n",
       "  </tbody>\n",
       "</table>\n",
       "<p>100 rows × 6 columns</p>\n",
       "</div>"
      ],
      "text/plain": [
       "         date                                     RWA commentry   \\\n",
       "0  2023-03-09  \"ABC Corp RWA increased $0.08 billion to $0.52...   \n",
       "1  2023-03-30  \"XYZ Ltd RWA decreased $0.025 billion to $0.41...   \n",
       "2  2023-06-05  \"LMN Inc RWA increased $0.2 billion to $0.7 bi...   \n",
       "3  2023-10-31  \"PQR Co RWA decreased $0.05 billion to $0.38 b...   \n",
       "4  2023-08-14  \"EFG Ltd RWA increased $0.15 billion to $0.6 b...   \n",
       "..        ...                                                ...   \n",
       "95 2023-07-12  \"ABC Inc RWA increased $0.13 billion to $0.61 ...   \n",
       "96 2023-09-26  \"XYZ Corp RWA remained flat at $0.44 billion d...   \n",
       "97 2023-11-23  \"OPQ Ltd RWA decreased $0.05 billion to $0.33 ...   \n",
       "98 2023-09-25  \"EFG Inc RWA increased $0.16 billion to $0.68 ...   \n",
       "99 2023-10-22  \"RST Inc RWA remained flat at $0.46 billion de...   \n",
       "\n",
       "    Actual credit risk                                             drivers  \\\n",
       "0                 0.050         the integration of new, higher-risk assets   \n",
       "1                 0.012  successful mitigation of credit risk through h...   \n",
       "2                 0.220         the integration of new, higher-risk assets   \n",
       "3                 0.035     the sale of low-risk assets from the portfolio   \n",
       "4                 0.130  regulatory changes requiring higher capital re...   \n",
       "..                  ...                                                ...   \n",
       "95                0.058                                                      \n",
       "96                0.035  the implementation of advanced risk management...   \n",
       "97                0.120                                                      \n",
       "98                0.016         the integration of new, higher-risk assets   \n",
       "99                0.088  the implementation of advanced risk management...   \n",
       "\n",
       "    Predicted_Credit_Risk  Difference  \n",
       "0                   0.060      -0.010  \n",
       "1                   0.015      -0.003  \n",
       "2                   0.180       0.040  \n",
       "3                   0.030       0.005  \n",
       "4                   0.120       0.010  \n",
       "..                    ...         ...  \n",
       "95                  0.110      -0.052  \n",
       "96                  0.028       0.007  \n",
       "97                  0.038       0.082  \n",
       "98                  0.140      -0.124  \n",
       "99                  0.025       0.063  \n",
       "\n",
       "[100 rows x 6 columns]"
      ]
     },
     "execution_count": 20,
     "metadata": {},
     "output_type": "execute_result"
    }
   ],
   "source": [
    "import re\n",
    "\n",
    "def extract_predicted_credit_risk(commentary):\n",
    "    match = re.search(r'\\$([0-9.]+) billion (increase|decrease)', commentary)\n",
    "    if match:\n",
    "        return float(match.group(1).replace(',', '')) if match.group(1) else float(match.group(3).replace(',', ''))\n",
    "    else:\n",
    "        return None\n",
    "pattern = re.compile(r\"because of (.*?)(?= as assessed by Analyst)\")\n",
    "\n",
    "df1[\"drivers\"] = df1[\"RWA commentry \"].apply(lambda x: re.search(pattern, str(x)).group(1).strip() if re.search(pattern, str(x)) else \"\")\n",
    "\n",
    "\n",
    "df1['Predicted_Credit_Risk'] = df1['RWA commentry '].apply(extract_predicted_credit_risk)\n",
    "df1['Difference'] = df1['Actual credit risk '] - df1['Predicted_Credit_Risk']\n",
    "\n",
    "df1.head(100)\n",
    "\n",
    "\n",
    "\n"
   ]
  },
  {
   "cell_type": "code",
   "execution_count": 8,
   "id": "aad81c8b",
   "metadata": {},
   "outputs": [
    {
     "ename": "SyntaxError",
     "evalue": "invalid non-printable character U+202A (1288335761.py, line 1)",
     "output_type": "error",
     "traceback": [
      "\u001b[1;36m  Cell \u001b[1;32mIn[8], line 1\u001b[1;36m\u001b[0m\n\u001b[1;33m    df1.to_excel(‪\"C:\\Users\\aryas\\OneDrive\\Documents\\rwapython.xlsx\")\u001b[0m\n\u001b[1;37m                 ^\u001b[0m\n\u001b[1;31mSyntaxError\u001b[0m\u001b[1;31m:\u001b[0m invalid non-printable character U+202A\n"
     ]
    }
   ],
   "source": [
    "df1.to_excel(‪\"C:\\Users\\aryas\\OneDrive\\Documents\\rwapython.xlsx\")"
   ]
  },
  {
   "cell_type": "code",
   "execution_count": 22,
   "id": "2f97bacb",
   "metadata": {},
   "outputs": [],
   "source": [
    "df1.to_excel(\"D:\\\\rwapython.xlsx\")\n"
   ]
  },
  {
   "cell_type": "code",
   "execution_count": null,
   "id": "59c052cc",
   "metadata": {},
   "outputs": [],
   "source": []
  }
 ],
 "metadata": {
  "kernelspec": {
   "display_name": "Python 3 (ipykernel)",
   "language": "python",
   "name": "python3"
  },
  "language_info": {
   "codemirror_mode": {
    "name": "ipython",
    "version": 3
   },
   "file_extension": ".py",
   "mimetype": "text/x-python",
   "name": "python",
   "nbconvert_exporter": "python",
   "pygments_lexer": "ipython3",
   "version": "3.10.9"
  }
 },
 "nbformat": 4,
 "nbformat_minor": 5
}
